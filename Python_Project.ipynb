{
 "cells": [
  {
   "cell_type": "code",
   "execution_count": 74,
   "id": "bdac7269-843c-481e-9108-00ece7fcfc9d",
   "metadata": {},
   "outputs": [
    {
     "name": "stdin",
     "output_type": "stream",
     "text": [
      "What's your age?  75\n",
      "Please choose time unit: Months, Weeks, Days, Hours, Minutes, Seconds.\n",
      "Note: You can write the first letter or the full name of the time unit:  m\n"
     ]
    },
    {
     "name": "stdout",
     "output_type": "stream",
     "text": [
      "You lived for 900 Months\n"
     ]
    }
   ],
   "source": [
    "##Function to calculate age\n",
    "def calculate_life_duration(Age, Time_unit):\n",
    "    #time calculations in a year\n",
    "    months_per_year = 12\n",
    "    weeks_per_year = 52\n",
    "    days_per_year = 365\n",
    "    hours_per_day = 24\n",
    "    minutes_per_hour = 60\n",
    "    seconds_per_minute = 60\n",
    "\n",
    "    # Calculate the duration based on the chosen unit\n",
    "    if Time_unit in ['months', 'm']:\n",
    "        duration = Age * months_per_year\n",
    "        return duration, \"Months\"\n",
    "    elif Time_unit in ['weeks', 'w']:\n",
    "        duration = Age * weeks_per_year\n",
    "        return duration, \"Weeks\"\n",
    "    elif Time_unit in ['days', 'd']:\n",
    "        duration = Age * days_per_year\n",
    "        return duration, \"Days\"\n",
    "    elif Time_unit in ['hours', 'h']:\n",
    "        duration = Age * days_per_year * hours_per_day\n",
    "        return duration, \"Hours\"\n",
    "    elif Time_unit in ['minutes', 'min']:\n",
    "        duration = Age * days_per_year * hours_per_day * minutes_per_hour\n",
    "        return duration, \"Minutes\"\n",
    "    elif Time_unit in ['seconds', 'sec']:\n",
    "        duration = Age * days_per_year * hours_per_day * minutes_per_hour * seconds_per_minute\n",
    "        return duration, \"Seconds\"\n",
    "    else:\n",
    "        return None, None \n",
    "\n",
    "# Main function to run the program\n",
    "def main():\n",
    "    # Input from user for their age\n",
    "    Age = int(input(\"What's your age? \"))  # Convert input to an integer\n",
    "    # Prompt user for the time unit they want to use\n",
    "    Time_Unit = input(\"Please choose time unit: Months, Weeks, Days, Hours, Minutes, Seconds.\\n\"\n",
    "                 \"Note: You can write the first letter or the full name of the time unit: \")\n",
    "\n",
    "    # Calculate the age duration based on the user's input\n",
    "    duration, unit_name = calculate_life_duration(Age, Time_Unit)\n",
    "\n",
    "    # Check if the duration was calculated\n",
    "    if duration is not None:\n",
    "        print(f\"You lived for {duration} {unit_name}\")\n",
    "    else:\n",
    "        print(\"Invalid time unit selected.\")\n",
    "\n",
    "# Run the time function\n",
    "if __name__ == \"__main__\":\n",
    "    main()\n"
   ]
  },
  {
   "cell_type": "code",
   "execution_count": null,
   "id": "67b44e26-2c94-41b7-a5ae-f6b9c1750e77",
   "metadata": {},
   "outputs": [],
   "source": []
  },
  {
   "cell_type": "code",
   "execution_count": null,
   "id": "97098ca6-b0f2-4ba3-80f0-c987d3abf868",
   "metadata": {},
   "outputs": [],
   "source": []
  },
  {
   "cell_type": "code",
   "execution_count": null,
   "id": "eb19f6bd-d66d-493b-9d53-03c2a6f3f1f7",
   "metadata": {},
   "outputs": [],
   "source": []
  }
 ],
 "metadata": {
  "kernelspec": {
   "display_name": "Python 3 (ipykernel)",
   "language": "python",
   "name": "python3"
  },
  "language_info": {
   "codemirror_mode": {
    "name": "ipython",
    "version": 3
   },
   "file_extension": ".py",
   "mimetype": "text/x-python",
   "name": "python",
   "nbconvert_exporter": "python",
   "pygments_lexer": "ipython3",
   "version": "3.12.4"
  }
 },
 "nbformat": 4,
 "nbformat_minor": 5
}
